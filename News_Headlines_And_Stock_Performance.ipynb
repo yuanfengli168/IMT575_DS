{
 "cells": [
  {
   "cell_type": "markdown",
   "metadata": {},
   "source": [
    "# Reddit News Headlines and Stock Market Performance"
   ]
  },
  {
   "cell_type": "markdown",
   "metadata": {},
   "source": [
    "In the current financial market, predicting daily stock prices using daily news as input is clearly a very complex task. Moreover, the market is very volatile because it is a result of multiple factors that change continuously. \n",
    "\n",
    "\n",
    "Our research questions are centered around using reddit data to predict the Dow Jones stock average in two different ways, using text word count and using text sentiment of reddit headlines. \n",
    "\n",
    "Our research questions are:\n",
    "\n",
    "<b> 1. Can the text content of reddit daily news headlines be used to predict past stock prices? </b>\n",
    "\n",
    "<b>    2. Can the sentiment of reddit daily news headlines be used to predict past stock prices? </b>\n"
   ]
  },
  {
   "cell_type": "markdown",
   "metadata": {},
   "source": [
    "## Load and Clean Data"
   ]
  },
  {
   "cell_type": "markdown",
   "metadata": {},
   "source": [
    "Begin by loading and formating the data. \n",
    "\n",
    "Dataset includes the top 25 most viewed news stories from reddit for a day and the Dow Jones stock performance over this time."
   ]
  },
  {
   "cell_type": "code",
   "execution_count": 172,
   "metadata": {},
   "outputs": [
    {
     "data": {
      "text/html": [
       "<div>\n",
       "<style scoped>\n",
       "    .dataframe tbody tr th:only-of-type {\n",
       "        vertical-align: middle;\n",
       "    }\n",
       "\n",
       "    .dataframe tbody tr th {\n",
       "        vertical-align: top;\n",
       "    }\n",
       "\n",
       "    .dataframe thead th {\n",
       "        text-align: right;\n",
       "    }\n",
       "</style>\n",
       "<table border=\"1\" class=\"dataframe\">\n",
       "  <thead>\n",
       "    <tr style=\"text-align: right;\">\n",
       "      <th></th>\n",
       "      <th>Date</th>\n",
       "      <th>Label</th>\n",
       "      <th>Top1</th>\n",
       "      <th>Top2</th>\n",
       "      <th>Top3</th>\n",
       "      <th>Top4</th>\n",
       "      <th>Top5</th>\n",
       "      <th>Top6</th>\n",
       "      <th>Top7</th>\n",
       "      <th>Top8</th>\n",
       "      <th>...</th>\n",
       "      <th>Top16</th>\n",
       "      <th>Top17</th>\n",
       "      <th>Top18</th>\n",
       "      <th>Top19</th>\n",
       "      <th>Top20</th>\n",
       "      <th>Top21</th>\n",
       "      <th>Top22</th>\n",
       "      <th>Top23</th>\n",
       "      <th>Top24</th>\n",
       "      <th>Top25</th>\n",
       "    </tr>\n",
       "  </thead>\n",
       "  <tbody>\n",
       "    <tr>\n",
       "      <th>0</th>\n",
       "      <td>2008-08-08</td>\n",
       "      <td>0</td>\n",
       "      <td>b\"Georgia 'downs two Russian warplanes' as cou...</td>\n",
       "      <td>b'BREAKING: Musharraf to be impeached.'</td>\n",
       "      <td>b'Russia Today: Columns of troops roll into So...</td>\n",
       "      <td>b'Russian tanks are moving towards the capital...</td>\n",
       "      <td>b\"Afghan children raped with 'impunity,' U.N. ...</td>\n",
       "      <td>b'150 Russian tanks have entered South Ossetia...</td>\n",
       "      <td>b\"Breaking: Georgia invades South Ossetia, Rus...</td>\n",
       "      <td>b\"The 'enemy combatent' trials are nothing but...</td>\n",
       "      <td>...</td>\n",
       "      <td>b'Georgia Invades South Ossetia - if Russia ge...</td>\n",
       "      <td>b'Al-Qaeda Faces Islamist Backlash'</td>\n",
       "      <td>b'Condoleezza Rice: \"The US would not act to p...</td>\n",
       "      <td>b'This is a busy day:  The European Union has ...</td>\n",
       "      <td>b\"Georgia will withdraw 1,000 soldiers from Ir...</td>\n",
       "      <td>b'Why the Pentagon Thinks Attacking Iran is a ...</td>\n",
       "      <td>b'Caucasus in crisis: Georgia invades South Os...</td>\n",
       "      <td>b'Indian shoe manufactory  - And again in a se...</td>\n",
       "      <td>b'Visitors Suffering from Mental Illnesses Ban...</td>\n",
       "      <td>b\"No Help for Mexico's Kidnapping Surge\"</td>\n",
       "    </tr>\n",
       "    <tr>\n",
       "      <th>1</th>\n",
       "      <td>2008-08-11</td>\n",
       "      <td>1</td>\n",
       "      <td>b'Why wont America and Nato help us? If they w...</td>\n",
       "      <td>b'Bush puts foot down on Georgian conflict'</td>\n",
       "      <td>b\"Jewish Georgian minister: Thanks to Israeli ...</td>\n",
       "      <td>b'Georgian army flees in disarray as Russians ...</td>\n",
       "      <td>b\"Olympic opening ceremony fireworks 'faked'\"</td>\n",
       "      <td>b'What were the Mossad with fraudulent New Zea...</td>\n",
       "      <td>b'Russia angered by Israeli military sale to G...</td>\n",
       "      <td>b'An American citizen living in S.Ossetia blam...</td>\n",
       "      <td>...</td>\n",
       "      <td>b'Israel and the US behind the Georgian aggres...</td>\n",
       "      <td>b'\"Do not believe TV, neither Russian nor Geor...</td>\n",
       "      <td>b'Riots are still going on in Montreal (Canada...</td>\n",
       "      <td>b'China to overtake US as largest manufacturer'</td>\n",
       "      <td>b'War in South Ossetia [PICS]'</td>\n",
       "      <td>b'Israeli Physicians Group Condemns State Tort...</td>\n",
       "      <td>b' Russia has just beaten the United States ov...</td>\n",
       "      <td>b'Perhaps *the* question about the Georgia - R...</td>\n",
       "      <td>b'Russia is so much better at war'</td>\n",
       "      <td>b\"So this is what it's come to: trading sex fo...</td>\n",
       "    </tr>\n",
       "    <tr>\n",
       "      <th>2</th>\n",
       "      <td>2008-08-12</td>\n",
       "      <td>0</td>\n",
       "      <td>b'Remember that adorable 9-year-old who sang a...</td>\n",
       "      <td>b\"Russia 'ends Georgia operation'\"</td>\n",
       "      <td>b'\"If we had no sexual harassment we would hav...</td>\n",
       "      <td>b\"Al-Qa'eda is losing support in Iraq because ...</td>\n",
       "      <td>b'Ceasefire in Georgia: Putin Outmaneuvers the...</td>\n",
       "      <td>b'Why Microsoft and Intel tried to kill the XO...</td>\n",
       "      <td>b'Stratfor: The Russo-Georgian War and the Bal...</td>\n",
       "      <td>b\"I'm Trying to Get a Sense of This Whole Geor...</td>\n",
       "      <td>...</td>\n",
       "      <td>b'U.S. troops still in Georgia (did you know t...</td>\n",
       "      <td>b'Why Russias response to Georgia was right'</td>\n",
       "      <td>b'Gorbachev accuses U.S. of making a \"serious ...</td>\n",
       "      <td>b'Russia, Georgia, and NATO: Cold War Two'</td>\n",
       "      <td>b'Remember that adorable 62-year-old who led y...</td>\n",
       "      <td>b'War in Georgia: The Israeli connection'</td>\n",
       "      <td>b'All signs point to the US encouraging Georgi...</td>\n",
       "      <td>b'Christopher King argues that the US and NATO...</td>\n",
       "      <td>b'America: The New Mexico?'</td>\n",
       "      <td>b\"BBC NEWS | Asia-Pacific | Extinction 'by man...</td>\n",
       "    </tr>\n",
       "    <tr>\n",
       "      <th>3</th>\n",
       "      <td>2008-08-13</td>\n",
       "      <td>0</td>\n",
       "      <td>b' U.S. refuses Israel weapons to attack Iran:...</td>\n",
       "      <td>b\"When the president ordered to attack Tskhinv...</td>\n",
       "      <td>b' Israel clears troops who killed Reuters cam...</td>\n",
       "      <td>b'Britain\\'s policy of being tough on drugs is...</td>\n",
       "      <td>b'Body of 14 year old found in trunk; Latest (...</td>\n",
       "      <td>b'China has moved 10 *million* quake survivors...</td>\n",
       "      <td>b\"Bush announces Operation Get All Up In Russi...</td>\n",
       "      <td>b'Russian forces sink Georgian ships '</td>\n",
       "      <td>...</td>\n",
       "      <td>b'Elephants extinct by 2020?'</td>\n",
       "      <td>b'US humanitarian missions soon in Georgia - i...</td>\n",
       "      <td>b\"Georgia's DDOS came from US sources\"</td>\n",
       "      <td>b'Russian convoy heads into Georgia, violating...</td>\n",
       "      <td>b'Israeli defence minister: US against strike ...</td>\n",
       "      <td>b'Gorbachev: We Had No Choice'</td>\n",
       "      <td>b'Witness: Russian forces head towards Tbilisi...</td>\n",
       "      <td>b' Quarter of Russians blame U.S. for conflict...</td>\n",
       "      <td>b'Georgian president  says US military will ta...</td>\n",
       "      <td>b'2006: Nobel laureate Aleksander Solzhenitsyn...</td>\n",
       "    </tr>\n",
       "    <tr>\n",
       "      <th>4</th>\n",
       "      <td>2008-08-14</td>\n",
       "      <td>1</td>\n",
       "      <td>b'All the experts admit that we should legalis...</td>\n",
       "      <td>b'War in South Osetia - 89 pictures made by a ...</td>\n",
       "      <td>b'Swedish wrestler Ara Abrahamian throws away ...</td>\n",
       "      <td>b'Russia exaggerated the death toll in South O...</td>\n",
       "      <td>b'Missile That Killed 9 Inside Pakistan May Ha...</td>\n",
       "      <td>b\"Rushdie Condemns Random House's Refusal to P...</td>\n",
       "      <td>b'Poland and US agree to missle defense deal. ...</td>\n",
       "      <td>b'Will the Russians conquer Tblisi? Bet on it,...</td>\n",
       "      <td>...</td>\n",
       "      <td>b'Bank analyst forecast Georgian crisis 2 days...</td>\n",
       "      <td>b\"Georgia confict could set back Russia's US r...</td>\n",
       "      <td>b'War in the Caucasus is as much the product o...</td>\n",
       "      <td>b'\"Non-media\" photos of South Ossetia/Georgia ...</td>\n",
       "      <td>b'Georgian TV reporter shot by Russian sniper ...</td>\n",
       "      <td>b'Saudi Arabia: Mother moves to block child ma...</td>\n",
       "      <td>b'Taliban wages war on humanitarian aid workers'</td>\n",
       "      <td>b'Russia: World  \"can forget about\" Georgia\\'s...</td>\n",
       "      <td>b'Darfur rebels accuse Sudan of mounting major...</td>\n",
       "      <td>b'Philippines : Peace Advocate say Muslims nee...</td>\n",
       "    </tr>\n",
       "  </tbody>\n",
       "</table>\n",
       "<p>5 rows × 27 columns</p>\n",
       "</div>"
      ],
      "text/plain": [
       "         Date  Label                                               Top1  \\\n",
       "0  2008-08-08      0  b\"Georgia 'downs two Russian warplanes' as cou...   \n",
       "1  2008-08-11      1  b'Why wont America and Nato help us? If they w...   \n",
       "2  2008-08-12      0  b'Remember that adorable 9-year-old who sang a...   \n",
       "3  2008-08-13      0  b' U.S. refuses Israel weapons to attack Iran:...   \n",
       "4  2008-08-14      1  b'All the experts admit that we should legalis...   \n",
       "\n",
       "                                                Top2  \\\n",
       "0            b'BREAKING: Musharraf to be impeached.'   \n",
       "1        b'Bush puts foot down on Georgian conflict'   \n",
       "2                 b\"Russia 'ends Georgia operation'\"   \n",
       "3  b\"When the president ordered to attack Tskhinv...   \n",
       "4  b'War in South Osetia - 89 pictures made by a ...   \n",
       "\n",
       "                                                Top3  \\\n",
       "0  b'Russia Today: Columns of troops roll into So...   \n",
       "1  b\"Jewish Georgian minister: Thanks to Israeli ...   \n",
       "2  b'\"If we had no sexual harassment we would hav...   \n",
       "3  b' Israel clears troops who killed Reuters cam...   \n",
       "4  b'Swedish wrestler Ara Abrahamian throws away ...   \n",
       "\n",
       "                                                Top4  \\\n",
       "0  b'Russian tanks are moving towards the capital...   \n",
       "1  b'Georgian army flees in disarray as Russians ...   \n",
       "2  b\"Al-Qa'eda is losing support in Iraq because ...   \n",
       "3  b'Britain\\'s policy of being tough on drugs is...   \n",
       "4  b'Russia exaggerated the death toll in South O...   \n",
       "\n",
       "                                                Top5  \\\n",
       "0  b\"Afghan children raped with 'impunity,' U.N. ...   \n",
       "1      b\"Olympic opening ceremony fireworks 'faked'\"   \n",
       "2  b'Ceasefire in Georgia: Putin Outmaneuvers the...   \n",
       "3  b'Body of 14 year old found in trunk; Latest (...   \n",
       "4  b'Missile That Killed 9 Inside Pakistan May Ha...   \n",
       "\n",
       "                                                Top6  \\\n",
       "0  b'150 Russian tanks have entered South Ossetia...   \n",
       "1  b'What were the Mossad with fraudulent New Zea...   \n",
       "2  b'Why Microsoft and Intel tried to kill the XO...   \n",
       "3  b'China has moved 10 *million* quake survivors...   \n",
       "4  b\"Rushdie Condemns Random House's Refusal to P...   \n",
       "\n",
       "                                                Top7  \\\n",
       "0  b\"Breaking: Georgia invades South Ossetia, Rus...   \n",
       "1  b'Russia angered by Israeli military sale to G...   \n",
       "2  b'Stratfor: The Russo-Georgian War and the Bal...   \n",
       "3  b\"Bush announces Operation Get All Up In Russi...   \n",
       "4  b'Poland and US agree to missle defense deal. ...   \n",
       "\n",
       "                                                Top8  ...  \\\n",
       "0  b\"The 'enemy combatent' trials are nothing but...  ...   \n",
       "1  b'An American citizen living in S.Ossetia blam...  ...   \n",
       "2  b\"I'm Trying to Get a Sense of This Whole Geor...  ...   \n",
       "3             b'Russian forces sink Georgian ships '  ...   \n",
       "4  b'Will the Russians conquer Tblisi? Bet on it,...  ...   \n",
       "\n",
       "                                               Top16  \\\n",
       "0  b'Georgia Invades South Ossetia - if Russia ge...   \n",
       "1  b'Israel and the US behind the Georgian aggres...   \n",
       "2  b'U.S. troops still in Georgia (did you know t...   \n",
       "3                      b'Elephants extinct by 2020?'   \n",
       "4  b'Bank analyst forecast Georgian crisis 2 days...   \n",
       "\n",
       "                                               Top17  \\\n",
       "0                b'Al-Qaeda Faces Islamist Backlash'   \n",
       "1  b'\"Do not believe TV, neither Russian nor Geor...   \n",
       "2       b'Why Russias response to Georgia was right'   \n",
       "3  b'US humanitarian missions soon in Georgia - i...   \n",
       "4  b\"Georgia confict could set back Russia's US r...   \n",
       "\n",
       "                                               Top18  \\\n",
       "0  b'Condoleezza Rice: \"The US would not act to p...   \n",
       "1  b'Riots are still going on in Montreal (Canada...   \n",
       "2  b'Gorbachev accuses U.S. of making a \"serious ...   \n",
       "3             b\"Georgia's DDOS came from US sources\"   \n",
       "4  b'War in the Caucasus is as much the product o...   \n",
       "\n",
       "                                               Top19  \\\n",
       "0  b'This is a busy day:  The European Union has ...   \n",
       "1    b'China to overtake US as largest manufacturer'   \n",
       "2         b'Russia, Georgia, and NATO: Cold War Two'   \n",
       "3  b'Russian convoy heads into Georgia, violating...   \n",
       "4  b'\"Non-media\" photos of South Ossetia/Georgia ...   \n",
       "\n",
       "                                               Top20  \\\n",
       "0  b\"Georgia will withdraw 1,000 soldiers from Ir...   \n",
       "1                     b'War in South Ossetia [PICS]'   \n",
       "2  b'Remember that adorable 62-year-old who led y...   \n",
       "3  b'Israeli defence minister: US against strike ...   \n",
       "4  b'Georgian TV reporter shot by Russian sniper ...   \n",
       "\n",
       "                                               Top21  \\\n",
       "0  b'Why the Pentagon Thinks Attacking Iran is a ...   \n",
       "1  b'Israeli Physicians Group Condemns State Tort...   \n",
       "2          b'War in Georgia: The Israeli connection'   \n",
       "3                     b'Gorbachev: We Had No Choice'   \n",
       "4  b'Saudi Arabia: Mother moves to block child ma...   \n",
       "\n",
       "                                               Top22  \\\n",
       "0  b'Caucasus in crisis: Georgia invades South Os...   \n",
       "1  b' Russia has just beaten the United States ov...   \n",
       "2  b'All signs point to the US encouraging Georgi...   \n",
       "3  b'Witness: Russian forces head towards Tbilisi...   \n",
       "4   b'Taliban wages war on humanitarian aid workers'   \n",
       "\n",
       "                                               Top23  \\\n",
       "0  b'Indian shoe manufactory  - And again in a se...   \n",
       "1  b'Perhaps *the* question about the Georgia - R...   \n",
       "2  b'Christopher King argues that the US and NATO...   \n",
       "3  b' Quarter of Russians blame U.S. for conflict...   \n",
       "4  b'Russia: World  \"can forget about\" Georgia\\'s...   \n",
       "\n",
       "                                               Top24  \\\n",
       "0  b'Visitors Suffering from Mental Illnesses Ban...   \n",
       "1                 b'Russia is so much better at war'   \n",
       "2                        b'America: The New Mexico?'   \n",
       "3  b'Georgian president  says US military will ta...   \n",
       "4  b'Darfur rebels accuse Sudan of mounting major...   \n",
       "\n",
       "                                               Top25  \n",
       "0           b\"No Help for Mexico's Kidnapping Surge\"  \n",
       "1  b\"So this is what it's come to: trading sex fo...  \n",
       "2  b\"BBC NEWS | Asia-Pacific | Extinction 'by man...  \n",
       "3  b'2006: Nobel laureate Aleksander Solzhenitsyn...  \n",
       "4  b'Philippines : Peace Advocate say Muslims nee...  \n",
       "\n",
       "[5 rows x 27 columns]"
      ]
     },
     "execution_count": 172,
     "metadata": {},
     "output_type": "execute_result"
    }
   ],
   "source": [
    "#\n",
    "import pandas as pd\n",
    "\n",
    "com_news_df = pd.read_csv('data/Combined_News_DJIA.csv')\n",
    "com_news_df.head()"
   ]
  },
  {
   "cell_type": "code",
   "execution_count": 174,
   "metadata": {},
   "outputs": [],
   "source": [
    "#DJIA_data = pd.read_csv('C:/Users/Yonas/OneDrive/Desktop/IMT 575/Group Project/Files/upload_DJIA_table.csv')\n",
    "DJIA_data = pd.read_csv('data/upload_DJIA_table.csv')\n",
    "\n",
    "#DJIA_data.info()"
   ]
  },
  {
   "cell_type": "code",
   "execution_count": 175,
   "metadata": {},
   "outputs": [
    {
     "name": "stdout",
     "output_type": "stream",
     "text": [
      "(1989, 27) (1989, 7)\n"
     ]
    }
   ],
   "source": [
    "#Look at the shape of the data\n",
    "print(com_news_df.shape, DJIA_data.shape )"
   ]
  },
  {
   "cell_type": "markdown",
   "metadata": {},
   "source": [
    "Merge the Dow Jones and the top news from reddit together. Also create a copy of the DF in order to use for sentiment analysis later."
   ]
  },
  {
   "cell_type": "code",
   "execution_count": 176,
   "metadata": {},
   "outputs": [],
   "source": [
    "merged_data = com_news_df.merge(DJIA_data, how = 'inner', on = 'Date', left_index = True)\n",
    "\n",
    "merged_data_sent = merged_data.copy()"
   ]
  },
  {
   "cell_type": "code",
   "execution_count": 177,
   "metadata": {},
   "outputs": [
    {
     "data": {
      "text/html": [
       "<div>\n",
       "<style scoped>\n",
       "    .dataframe tbody tr th:only-of-type {\n",
       "        vertical-align: middle;\n",
       "    }\n",
       "\n",
       "    .dataframe tbody tr th {\n",
       "        vertical-align: top;\n",
       "    }\n",
       "\n",
       "    .dataframe thead th {\n",
       "        text-align: right;\n",
       "    }\n",
       "</style>\n",
       "<table border=\"1\" class=\"dataframe\">\n",
       "  <thead>\n",
       "    <tr style=\"text-align: right;\">\n",
       "      <th></th>\n",
       "      <th>Date</th>\n",
       "      <th>Label</th>\n",
       "      <th>Top1</th>\n",
       "      <th>Top2</th>\n",
       "      <th>Top3</th>\n",
       "      <th>Top4</th>\n",
       "      <th>Top5</th>\n",
       "      <th>Top6</th>\n",
       "      <th>Top7</th>\n",
       "      <th>Top8</th>\n",
       "      <th>...</th>\n",
       "      <th>Top22</th>\n",
       "      <th>Top23</th>\n",
       "      <th>Top24</th>\n",
       "      <th>Top25</th>\n",
       "      <th>Open</th>\n",
       "      <th>High</th>\n",
       "      <th>Low</th>\n",
       "      <th>Close</th>\n",
       "      <th>Volume</th>\n",
       "      <th>Adj Close</th>\n",
       "    </tr>\n",
       "  </thead>\n",
       "  <tbody>\n",
       "    <tr>\n",
       "      <th>1988</th>\n",
       "      <td>2008-08-08</td>\n",
       "      <td>0</td>\n",
       "      <td>b\"Georgia 'downs two Russian warplanes' as cou...</td>\n",
       "      <td>b'BREAKING: Musharraf to be impeached.'</td>\n",
       "      <td>b'Russia Today: Columns of troops roll into So...</td>\n",
       "      <td>b'Russian tanks are moving towards the capital...</td>\n",
       "      <td>b\"Afghan children raped with 'impunity,' U.N. ...</td>\n",
       "      <td>b'150 Russian tanks have entered South Ossetia...</td>\n",
       "      <td>b\"Breaking: Georgia invades South Ossetia, Rus...</td>\n",
       "      <td>b\"The 'enemy combatent' trials are nothing but...</td>\n",
       "      <td>...</td>\n",
       "      <td>b'Caucasus in crisis: Georgia invades South Os...</td>\n",
       "      <td>b'Indian shoe manufactory  - And again in a se...</td>\n",
       "      <td>b'Visitors Suffering from Mental Illnesses Ban...</td>\n",
       "      <td>b\"No Help for Mexico's Kidnapping Surge\"</td>\n",
       "      <td>11432.089844</td>\n",
       "      <td>11759.959961</td>\n",
       "      <td>11388.040039</td>\n",
       "      <td>11734.320312</td>\n",
       "      <td>212830000</td>\n",
       "      <td>11734.320312</td>\n",
       "    </tr>\n",
       "    <tr>\n",
       "      <th>1987</th>\n",
       "      <td>2008-08-11</td>\n",
       "      <td>1</td>\n",
       "      <td>b'Why wont America and Nato help us? If they w...</td>\n",
       "      <td>b'Bush puts foot down on Georgian conflict'</td>\n",
       "      <td>b\"Jewish Georgian minister: Thanks to Israeli ...</td>\n",
       "      <td>b'Georgian army flees in disarray as Russians ...</td>\n",
       "      <td>b\"Olympic opening ceremony fireworks 'faked'\"</td>\n",
       "      <td>b'What were the Mossad with fraudulent New Zea...</td>\n",
       "      <td>b'Russia angered by Israeli military sale to G...</td>\n",
       "      <td>b'An American citizen living in S.Ossetia blam...</td>\n",
       "      <td>...</td>\n",
       "      <td>b' Russia has just beaten the United States ov...</td>\n",
       "      <td>b'Perhaps *the* question about the Georgia - R...</td>\n",
       "      <td>b'Russia is so much better at war'</td>\n",
       "      <td>b\"So this is what it's come to: trading sex fo...</td>\n",
       "      <td>11729.669922</td>\n",
       "      <td>11867.110352</td>\n",
       "      <td>11675.530273</td>\n",
       "      <td>11782.349609</td>\n",
       "      <td>183190000</td>\n",
       "      <td>11782.349609</td>\n",
       "    </tr>\n",
       "    <tr>\n",
       "      <th>1986</th>\n",
       "      <td>2008-08-12</td>\n",
       "      <td>0</td>\n",
       "      <td>b'Remember that adorable 9-year-old who sang a...</td>\n",
       "      <td>b\"Russia 'ends Georgia operation'\"</td>\n",
       "      <td>b'\"If we had no sexual harassment we would hav...</td>\n",
       "      <td>b\"Al-Qa'eda is losing support in Iraq because ...</td>\n",
       "      <td>b'Ceasefire in Georgia: Putin Outmaneuvers the...</td>\n",
       "      <td>b'Why Microsoft and Intel tried to kill the XO...</td>\n",
       "      <td>b'Stratfor: The Russo-Georgian War and the Bal...</td>\n",
       "      <td>b\"I'm Trying to Get a Sense of This Whole Geor...</td>\n",
       "      <td>...</td>\n",
       "      <td>b'All signs point to the US encouraging Georgi...</td>\n",
       "      <td>b'Christopher King argues that the US and NATO...</td>\n",
       "      <td>b'America: The New Mexico?'</td>\n",
       "      <td>b\"BBC NEWS | Asia-Pacific | Extinction 'by man...</td>\n",
       "      <td>11781.700195</td>\n",
       "      <td>11782.349609</td>\n",
       "      <td>11601.519531</td>\n",
       "      <td>11642.469727</td>\n",
       "      <td>173590000</td>\n",
       "      <td>11642.469727</td>\n",
       "    </tr>\n",
       "  </tbody>\n",
       "</table>\n",
       "<p>3 rows × 33 columns</p>\n",
       "</div>"
      ],
      "text/plain": [
       "            Date  Label                                               Top1  \\\n",
       "1988  2008-08-08      0  b\"Georgia 'downs two Russian warplanes' as cou...   \n",
       "1987  2008-08-11      1  b'Why wont America and Nato help us? If they w...   \n",
       "1986  2008-08-12      0  b'Remember that adorable 9-year-old who sang a...   \n",
       "\n",
       "                                             Top2  \\\n",
       "1988      b'BREAKING: Musharraf to be impeached.'   \n",
       "1987  b'Bush puts foot down on Georgian conflict'   \n",
       "1986           b\"Russia 'ends Georgia operation'\"   \n",
       "\n",
       "                                                   Top3  \\\n",
       "1988  b'Russia Today: Columns of troops roll into So...   \n",
       "1987  b\"Jewish Georgian minister: Thanks to Israeli ...   \n",
       "1986  b'\"If we had no sexual harassment we would hav...   \n",
       "\n",
       "                                                   Top4  \\\n",
       "1988  b'Russian tanks are moving towards the capital...   \n",
       "1987  b'Georgian army flees in disarray as Russians ...   \n",
       "1986  b\"Al-Qa'eda is losing support in Iraq because ...   \n",
       "\n",
       "                                                   Top5  \\\n",
       "1988  b\"Afghan children raped with 'impunity,' U.N. ...   \n",
       "1987      b\"Olympic opening ceremony fireworks 'faked'\"   \n",
       "1986  b'Ceasefire in Georgia: Putin Outmaneuvers the...   \n",
       "\n",
       "                                                   Top6  \\\n",
       "1988  b'150 Russian tanks have entered South Ossetia...   \n",
       "1987  b'What were the Mossad with fraudulent New Zea...   \n",
       "1986  b'Why Microsoft and Intel tried to kill the XO...   \n",
       "\n",
       "                                                   Top7  \\\n",
       "1988  b\"Breaking: Georgia invades South Ossetia, Rus...   \n",
       "1987  b'Russia angered by Israeli military sale to G...   \n",
       "1986  b'Stratfor: The Russo-Georgian War and the Bal...   \n",
       "\n",
       "                                                   Top8  ...  \\\n",
       "1988  b\"The 'enemy combatent' trials are nothing but...  ...   \n",
       "1987  b'An American citizen living in S.Ossetia blam...  ...   \n",
       "1986  b\"I'm Trying to Get a Sense of This Whole Geor...  ...   \n",
       "\n",
       "                                                  Top22  \\\n",
       "1988  b'Caucasus in crisis: Georgia invades South Os...   \n",
       "1987  b' Russia has just beaten the United States ov...   \n",
       "1986  b'All signs point to the US encouraging Georgi...   \n",
       "\n",
       "                                                  Top23  \\\n",
       "1988  b'Indian shoe manufactory  - And again in a se...   \n",
       "1987  b'Perhaps *the* question about the Georgia - R...   \n",
       "1986  b'Christopher King argues that the US and NATO...   \n",
       "\n",
       "                                                  Top24  \\\n",
       "1988  b'Visitors Suffering from Mental Illnesses Ban...   \n",
       "1987                 b'Russia is so much better at war'   \n",
       "1986                        b'America: The New Mexico?'   \n",
       "\n",
       "                                                  Top25          Open  \\\n",
       "1988           b\"No Help for Mexico's Kidnapping Surge\"  11432.089844   \n",
       "1987  b\"So this is what it's come to: trading sex fo...  11729.669922   \n",
       "1986  b\"BBC NEWS | Asia-Pacific | Extinction 'by man...  11781.700195   \n",
       "\n",
       "              High           Low         Close     Volume     Adj Close  \n",
       "1988  11759.959961  11388.040039  11734.320312  212830000  11734.320312  \n",
       "1987  11867.110352  11675.530273  11782.349609  183190000  11782.349609  \n",
       "1986  11782.349609  11601.519531  11642.469727  173590000  11642.469727  \n",
       "\n",
       "[3 rows x 33 columns]"
      ]
     },
     "execution_count": 177,
     "metadata": {},
     "output_type": "execute_result"
    }
   ],
   "source": [
    "merged_data.head(3)"
   ]
  },
  {
   "cell_type": "markdown",
   "metadata": {},
   "source": [
    "Merge all 25 top headlines together"
   ]
  },
  {
   "cell_type": "code",
   "execution_count": 178,
   "metadata": {},
   "outputs": [],
   "source": [
    "# to combine the first 25 coulums of the top news in\n",
    "\n",
    "top25_headlines = []\n",
    "\n",
    "for row in range(0, len(merged_data.index)):\n",
    "    top25_headlines.append(' '.join( str(x) for x in merged_data.iloc[row, 2:27]))"
   ]
  },
  {
   "cell_type": "markdown",
   "metadata": {},
   "source": [
    "Optionally delete other extra columns of data [2:27]]\n"
   ]
  },
  {
   "cell_type": "code",
   "execution_count": 181,
   "metadata": {},
   "outputs": [],
   "source": [
    "\n",
    "#merged_data.drop(merged_data.iloc[:, 3:28], inplace = True, axis = 1)\n",
    "#merged_data"
   ]
  },
  {
   "cell_type": "markdown",
   "metadata": {},
   "source": [
    "Sort the columns by date"
   ]
  },
  {
   "cell_type": "code",
   "execution_count": 218,
   "metadata": {},
   "outputs": [],
   "source": [
    "merged_data = merged_data.sort_values(by=\"Date\")\n",
    "#merged_data.head(2)"
   ]
  },
  {
   "cell_type": "markdown",
   "metadata": {},
   "source": [
    "Hide ipython warning messages"
   ]
  },
  {
   "cell_type": "code",
   "execution_count": 183,
   "metadata": {},
   "outputs": [
    {
     "data": {
      "application/javascript": [
       "(function(on) {\n",
       "const e=$( \"<a>Setup failed</a>\" );\n",
       "const ns=\"js_jupyter_suppress_warnings\";\n",
       "var cssrules=$(\"#\"+ns);\n",
       "if(!cssrules.length) cssrules = $(\"<style id='\"+ns+\"' type='text/css'>div.output_stderr { } </style>\").appendTo(\"head\");\n",
       "e.click(function() {\n",
       "    var s='Showing';  \n",
       "    cssrules.empty()\n",
       "    if(on) {\n",
       "        s='Hiding';\n",
       "        cssrules.append(\"div.output_stderr, div[data-mime-type*='.stderr'] { display:none; }\");\n",
       "    }\n",
       "    e.text(s+' warnings (click to toggle)');\n",
       "    on=!on;\n",
       "}).click();\n",
       "$(element).append(e);\n",
       "})(true);\n"
      ],
      "text/plain": [
       "<IPython.core.display.Javascript object>"
      ]
     },
     "metadata": {},
     "output_type": "display_data"
    }
   ],
   "source": [
    "%%javascript\n",
    "(function(on) {\n",
    "const e=$( \"<a>Setup failed</a>\" );\n",
    "const ns=\"js_jupyter_suppress_warnings\";\n",
    "var cssrules=$(\"#\"+ns);\n",
    "if(!cssrules.length) cssrules = $(\"<style id='\"+ns+\"' type='text/css'>div.output_stderr { } </style>\").appendTo(\"head\");\n",
    "e.click(function() {\n",
    "    var s='Showing';  \n",
    "    cssrules.empty()\n",
    "    if(on) {\n",
    "        s='Hiding';\n",
    "        cssrules.append(\"div.output_stderr, div[data-mime-type*='.stderr'] { display:none; }\");\n",
    "    }\n",
    "    e.text(s+' warnings (click to toggle)');\n",
    "    on=!on;\n",
    "}).click();\n",
    "$(element).append(e);\n",
    "})(true);"
   ]
  },
  {
   "cell_type": "markdown",
   "metadata": {},
   "source": [
    "# Preprocessing the code"
   ]
  },
  {
   "cell_type": "markdown",
   "metadata": {},
   "source": [
    "Next clean the data to make the machine learning models more effective."
   ]
  },
  {
   "cell_type": "markdown",
   "metadata": {},
   "source": [
    "Use regex to remove stopwords and to lemmatize all of the top 25 headlines."
   ]
  },
  {
   "cell_type": "code",
   "execution_count": 184,
   "metadata": {},
   "outputs": [],
   "source": [
    "import regex as re\n",
    "from nltk.corpus import stopwords\n",
    "from nltk.stem import WordNetLemmatizer\n",
    "\n",
    "def prepro_text(target_text):\n",
    "    # if b'/b\"\n",
    "    target_text = re.sub(r\"^b[\\'\\\"]\", '', target_text)\n",
    "    target_text = re.sub(r\"[^\\w\\s]\", '', target_text)\n",
    "    target_text = target_text.lower().strip()\n",
    "    target_text = target_text.split()\n",
    "    target_text = ' '.join([x for x in target_text if x not in stopwords.words('english')])\n",
    "    return target_text"
   ]
  },
  {
   "cell_type": "code",
   "execution_count": 185,
   "metadata": {},
   "outputs": [
    {
     "data": {
      "text/html": [
       "<div>\n",
       "<style scoped>\n",
       "    .dataframe tbody tr th:only-of-type {\n",
       "        vertical-align: middle;\n",
       "    }\n",
       "\n",
       "    .dataframe tbody tr th {\n",
       "        vertical-align: top;\n",
       "    }\n",
       "\n",
       "    .dataframe thead th {\n",
       "        text-align: right;\n",
       "    }\n",
       "</style>\n",
       "<table border=\"1\" class=\"dataframe\">\n",
       "  <thead>\n",
       "    <tr style=\"text-align: right;\">\n",
       "      <th></th>\n",
       "      <th>Date</th>\n",
       "      <th>Label</th>\n",
       "      <th>top25_headlines</th>\n",
       "      <th>Top1</th>\n",
       "      <th>Top2</th>\n",
       "      <th>Top3</th>\n",
       "      <th>Top4</th>\n",
       "      <th>Top5</th>\n",
       "      <th>Top6</th>\n",
       "      <th>Top7</th>\n",
       "      <th>...</th>\n",
       "      <th>Top22</th>\n",
       "      <th>Top23</th>\n",
       "      <th>Top24</th>\n",
       "      <th>Top25</th>\n",
       "      <th>Open</th>\n",
       "      <th>High</th>\n",
       "      <th>Low</th>\n",
       "      <th>Close</th>\n",
       "      <th>Volume</th>\n",
       "      <th>Adj Close</th>\n",
       "    </tr>\n",
       "  </thead>\n",
       "  <tbody>\n",
       "    <tr>\n",
       "      <th>1988</th>\n",
       "      <td>2008-08-08</td>\n",
       "      <td>0</td>\n",
       "      <td>georgia downs two russian warplanes countries ...</td>\n",
       "      <td>b\"Georgia 'downs two Russian warplanes' as cou...</td>\n",
       "      <td>b'BREAKING: Musharraf to be impeached.'</td>\n",
       "      <td>b'Russia Today: Columns of troops roll into So...</td>\n",
       "      <td>b'Russian tanks are moving towards the capital...</td>\n",
       "      <td>b\"Afghan children raped with 'impunity,' U.N. ...</td>\n",
       "      <td>b'150 Russian tanks have entered South Ossetia...</td>\n",
       "      <td>b\"Breaking: Georgia invades South Ossetia, Rus...</td>\n",
       "      <td>...</td>\n",
       "      <td>b'Caucasus in crisis: Georgia invades South Os...</td>\n",
       "      <td>b'Indian shoe manufactory  - And again in a se...</td>\n",
       "      <td>b'Visitors Suffering from Mental Illnesses Ban...</td>\n",
       "      <td>b\"No Help for Mexico's Kidnapping Surge\"</td>\n",
       "      <td>11432.089844</td>\n",
       "      <td>11759.959961</td>\n",
       "      <td>11388.040039</td>\n",
       "      <td>11734.320312</td>\n",
       "      <td>212830000</td>\n",
       "      <td>11734.320312</td>\n",
       "    </tr>\n",
       "    <tr>\n",
       "      <th>1987</th>\n",
       "      <td>2008-08-11</td>\n",
       "      <td>1</td>\n",
       "      <td>wont america nato help us wont help us help ir...</td>\n",
       "      <td>b'Why wont America and Nato help us? If they w...</td>\n",
       "      <td>b'Bush puts foot down on Georgian conflict'</td>\n",
       "      <td>b\"Jewish Georgian minister: Thanks to Israeli ...</td>\n",
       "      <td>b'Georgian army flees in disarray as Russians ...</td>\n",
       "      <td>b\"Olympic opening ceremony fireworks 'faked'\"</td>\n",
       "      <td>b'What were the Mossad with fraudulent New Zea...</td>\n",
       "      <td>b'Russia angered by Israeli military sale to G...</td>\n",
       "      <td>...</td>\n",
       "      <td>b' Russia has just beaten the United States ov...</td>\n",
       "      <td>b'Perhaps *the* question about the Georgia - R...</td>\n",
       "      <td>b'Russia is so much better at war'</td>\n",
       "      <td>b\"So this is what it's come to: trading sex fo...</td>\n",
       "      <td>11729.669922</td>\n",
       "      <td>11867.110352</td>\n",
       "      <td>11675.530273</td>\n",
       "      <td>11782.349609</td>\n",
       "      <td>183190000</td>\n",
       "      <td>11782.349609</td>\n",
       "    </tr>\n",
       "    <tr>\n",
       "      <th>1986</th>\n",
       "      <td>2008-08-12</td>\n",
       "      <td>0</td>\n",
       "      <td>remember adorable 9yearold sang opening ceremo...</td>\n",
       "      <td>b'Remember that adorable 9-year-old who sang a...</td>\n",
       "      <td>b\"Russia 'ends Georgia operation'\"</td>\n",
       "      <td>b'\"If we had no sexual harassment we would hav...</td>\n",
       "      <td>b\"Al-Qa'eda is losing support in Iraq because ...</td>\n",
       "      <td>b'Ceasefire in Georgia: Putin Outmaneuvers the...</td>\n",
       "      <td>b'Why Microsoft and Intel tried to kill the XO...</td>\n",
       "      <td>b'Stratfor: The Russo-Georgian War and the Bal...</td>\n",
       "      <td>...</td>\n",
       "      <td>b'All signs point to the US encouraging Georgi...</td>\n",
       "      <td>b'Christopher King argues that the US and NATO...</td>\n",
       "      <td>b'America: The New Mexico?'</td>\n",
       "      <td>b\"BBC NEWS | Asia-Pacific | Extinction 'by man...</td>\n",
       "      <td>11781.700195</td>\n",
       "      <td>11782.349609</td>\n",
       "      <td>11601.519531</td>\n",
       "      <td>11642.469727</td>\n",
       "      <td>173590000</td>\n",
       "      <td>11642.469727</td>\n",
       "    </tr>\n",
       "    <tr>\n",
       "      <th>1985</th>\n",
       "      <td>2008-08-13</td>\n",
       "      <td>0</td>\n",
       "      <td>us refuses israel weapons attack iran report b...</td>\n",
       "      <td>b' U.S. refuses Israel weapons to attack Iran:...</td>\n",
       "      <td>b\"When the president ordered to attack Tskhinv...</td>\n",
       "      <td>b' Israel clears troops who killed Reuters cam...</td>\n",
       "      <td>b'Britain\\'s policy of being tough on drugs is...</td>\n",
       "      <td>b'Body of 14 year old found in trunk; Latest (...</td>\n",
       "      <td>b'China has moved 10 *million* quake survivors...</td>\n",
       "      <td>b\"Bush announces Operation Get All Up In Russi...</td>\n",
       "      <td>...</td>\n",
       "      <td>b'Witness: Russian forces head towards Tbilisi...</td>\n",
       "      <td>b' Quarter of Russians blame U.S. for conflict...</td>\n",
       "      <td>b'Georgian president  says US military will ta...</td>\n",
       "      <td>b'2006: Nobel laureate Aleksander Solzhenitsyn...</td>\n",
       "      <td>11632.809570</td>\n",
       "      <td>11633.780273</td>\n",
       "      <td>11453.339844</td>\n",
       "      <td>11532.959961</td>\n",
       "      <td>182550000</td>\n",
       "      <td>11532.959961</td>\n",
       "    </tr>\n",
       "    <tr>\n",
       "      <th>1984</th>\n",
       "      <td>2008-08-14</td>\n",
       "      <td>1</td>\n",
       "      <td>experts admit legalise drugs bwar south osetia...</td>\n",
       "      <td>b'All the experts admit that we should legalis...</td>\n",
       "      <td>b'War in South Osetia - 89 pictures made by a ...</td>\n",
       "      <td>b'Swedish wrestler Ara Abrahamian throws away ...</td>\n",
       "      <td>b'Russia exaggerated the death toll in South O...</td>\n",
       "      <td>b'Missile That Killed 9 Inside Pakistan May Ha...</td>\n",
       "      <td>b\"Rushdie Condemns Random House's Refusal to P...</td>\n",
       "      <td>b'Poland and US agree to missle defense deal. ...</td>\n",
       "      <td>...</td>\n",
       "      <td>b'Taliban wages war on humanitarian aid workers'</td>\n",
       "      <td>b'Russia: World  \"can forget about\" Georgia\\'s...</td>\n",
       "      <td>b'Darfur rebels accuse Sudan of mounting major...</td>\n",
       "      <td>b'Philippines : Peace Advocate say Muslims nee...</td>\n",
       "      <td>11532.070312</td>\n",
       "      <td>11718.280273</td>\n",
       "      <td>11450.889648</td>\n",
       "      <td>11615.929688</td>\n",
       "      <td>159790000</td>\n",
       "      <td>11615.929688</td>\n",
       "    </tr>\n",
       "  </tbody>\n",
       "</table>\n",
       "<p>5 rows × 34 columns</p>\n",
       "</div>"
      ],
      "text/plain": [
       "            Date  Label                                    top25_headlines  \\\n",
       "1988  2008-08-08      0  georgia downs two russian warplanes countries ...   \n",
       "1987  2008-08-11      1  wont america nato help us wont help us help ir...   \n",
       "1986  2008-08-12      0  remember adorable 9yearold sang opening ceremo...   \n",
       "1985  2008-08-13      0  us refuses israel weapons attack iran report b...   \n",
       "1984  2008-08-14      1  experts admit legalise drugs bwar south osetia...   \n",
       "\n",
       "                                                   Top1  \\\n",
       "1988  b\"Georgia 'downs two Russian warplanes' as cou...   \n",
       "1987  b'Why wont America and Nato help us? If they w...   \n",
       "1986  b'Remember that adorable 9-year-old who sang a...   \n",
       "1985  b' U.S. refuses Israel weapons to attack Iran:...   \n",
       "1984  b'All the experts admit that we should legalis...   \n",
       "\n",
       "                                                   Top2  \\\n",
       "1988            b'BREAKING: Musharraf to be impeached.'   \n",
       "1987        b'Bush puts foot down on Georgian conflict'   \n",
       "1986                 b\"Russia 'ends Georgia operation'\"   \n",
       "1985  b\"When the president ordered to attack Tskhinv...   \n",
       "1984  b'War in South Osetia - 89 pictures made by a ...   \n",
       "\n",
       "                                                   Top3  \\\n",
       "1988  b'Russia Today: Columns of troops roll into So...   \n",
       "1987  b\"Jewish Georgian minister: Thanks to Israeli ...   \n",
       "1986  b'\"If we had no sexual harassment we would hav...   \n",
       "1985  b' Israel clears troops who killed Reuters cam...   \n",
       "1984  b'Swedish wrestler Ara Abrahamian throws away ...   \n",
       "\n",
       "                                                   Top4  \\\n",
       "1988  b'Russian tanks are moving towards the capital...   \n",
       "1987  b'Georgian army flees in disarray as Russians ...   \n",
       "1986  b\"Al-Qa'eda is losing support in Iraq because ...   \n",
       "1985  b'Britain\\'s policy of being tough on drugs is...   \n",
       "1984  b'Russia exaggerated the death toll in South O...   \n",
       "\n",
       "                                                   Top5  \\\n",
       "1988  b\"Afghan children raped with 'impunity,' U.N. ...   \n",
       "1987      b\"Olympic opening ceremony fireworks 'faked'\"   \n",
       "1986  b'Ceasefire in Georgia: Putin Outmaneuvers the...   \n",
       "1985  b'Body of 14 year old found in trunk; Latest (...   \n",
       "1984  b'Missile That Killed 9 Inside Pakistan May Ha...   \n",
       "\n",
       "                                                   Top6  \\\n",
       "1988  b'150 Russian tanks have entered South Ossetia...   \n",
       "1987  b'What were the Mossad with fraudulent New Zea...   \n",
       "1986  b'Why Microsoft and Intel tried to kill the XO...   \n",
       "1985  b'China has moved 10 *million* quake survivors...   \n",
       "1984  b\"Rushdie Condemns Random House's Refusal to P...   \n",
       "\n",
       "                                                   Top7  ...  \\\n",
       "1988  b\"Breaking: Georgia invades South Ossetia, Rus...  ...   \n",
       "1987  b'Russia angered by Israeli military sale to G...  ...   \n",
       "1986  b'Stratfor: The Russo-Georgian War and the Bal...  ...   \n",
       "1985  b\"Bush announces Operation Get All Up In Russi...  ...   \n",
       "1984  b'Poland and US agree to missle defense deal. ...  ...   \n",
       "\n",
       "                                                  Top22  \\\n",
       "1988  b'Caucasus in crisis: Georgia invades South Os...   \n",
       "1987  b' Russia has just beaten the United States ov...   \n",
       "1986  b'All signs point to the US encouraging Georgi...   \n",
       "1985  b'Witness: Russian forces head towards Tbilisi...   \n",
       "1984   b'Taliban wages war on humanitarian aid workers'   \n",
       "\n",
       "                                                  Top23  \\\n",
       "1988  b'Indian shoe manufactory  - And again in a se...   \n",
       "1987  b'Perhaps *the* question about the Georgia - R...   \n",
       "1986  b'Christopher King argues that the US and NATO...   \n",
       "1985  b' Quarter of Russians blame U.S. for conflict...   \n",
       "1984  b'Russia: World  \"can forget about\" Georgia\\'s...   \n",
       "\n",
       "                                                  Top24  \\\n",
       "1988  b'Visitors Suffering from Mental Illnesses Ban...   \n",
       "1987                 b'Russia is so much better at war'   \n",
       "1986                        b'America: The New Mexico?'   \n",
       "1985  b'Georgian president  says US military will ta...   \n",
       "1984  b'Darfur rebels accuse Sudan of mounting major...   \n",
       "\n",
       "                                                  Top25          Open  \\\n",
       "1988           b\"No Help for Mexico's Kidnapping Surge\"  11432.089844   \n",
       "1987  b\"So this is what it's come to: trading sex fo...  11729.669922   \n",
       "1986  b\"BBC NEWS | Asia-Pacific | Extinction 'by man...  11781.700195   \n",
       "1985  b'2006: Nobel laureate Aleksander Solzhenitsyn...  11632.809570   \n",
       "1984  b'Philippines : Peace Advocate say Muslims nee...  11532.070312   \n",
       "\n",
       "              High           Low         Close     Volume     Adj Close  \n",
       "1988  11759.959961  11388.040039  11734.320312  212830000  11734.320312  \n",
       "1987  11867.110352  11675.530273  11782.349609  183190000  11782.349609  \n",
       "1986  11782.349609  11601.519531  11642.469727  173590000  11642.469727  \n",
       "1985  11633.780273  11453.339844  11532.959961  182550000  11532.959961  \n",
       "1984  11718.280273  11450.889648  11615.929688  159790000  11615.929688  \n",
       "\n",
       "[5 rows x 34 columns]"
      ]
     },
     "execution_count": 185,
     "metadata": {},
     "output_type": "execute_result"
    }
   ],
   "source": [
    "# applymap to the whole dataframe\n",
    "#Takes a while to run this because needs to clean every row of data\n",
    "\n",
    "merged_data.iloc[:,2] = merged_data.iloc[:,2:].applymap(lambda element:prepro_text(str(element)))\n",
    "merged_data.head()\n",
    "\n",
    "# com_news_df.to_csv('cleaned_Combined_News_DJIA.csv')"
   ]
  },
  {
   "cell_type": "markdown",
   "metadata": {},
   "source": [
    "<h1> Run Model for TFIDF and Embeddings </h1>"
   ]
  },
  {
   "cell_type": "markdown",
   "metadata": {},
   "source": [
    "Import train test split. Use the top 25 headlines combined together as the X variable. \n",
    "\n",
    "The Y variable is a binary label which shows whether or not the stock market went up or down."
   ]
  },
  {
   "cell_type": "code",
   "execution_count": 240,
   "metadata": {},
   "outputs": [],
   "source": [
    "from sklearn.model_selection import train_test_split\n",
    "\n",
    "X = merged_data['top25_headlines']\n",
    "y = merged_data['Label']\n",
    "\n",
    "X_train, X_test, y_train, y_test = train_test_split(X, y, test_size=0.2)"
   ]
  },
  {
   "cell_type": "markdown",
   "metadata": {},
   "source": [
    "Import the count vectorizer and tensorflow."
   ]
  },
  {
   "cell_type": "code",
   "execution_count": 241,
   "metadata": {},
   "outputs": [
    {
     "name": "stdout",
     "output_type": "stream",
     "text": [
      "module https://tfhub.dev/google/universal-sentence-encoder/4 loaded\n"
     ]
    }
   ],
   "source": [
    "# # Takes a while to load the tensforlow model\n",
    "\n",
    "from sklearn.feature_extraction.text import TfidfVectorizer\n",
    "from sklearn.model_selection import train_test_split\n",
    "\n",
    "from tqdm.auto import tqdm\n",
    "from sklearn.preprocessing import MaxAbsScaler\n",
    "# Universal Sentence Encoder\n",
    "import tensorflow_hub as hub\n",
    "module_url = \"https://tfhub.dev/google/universal-sentence-encoder/4\"\n",
    "use = hub.load(module_url)\n",
    "print(\"module %s loaded\" % module_url)\n",
    "import numpy as np"
   ]
  },
  {
   "cell_type": "markdown",
   "metadata": {},
   "source": [
    "Import the Tfidf vectorizer. \n",
    "\n",
    "Create a function to run the model with either TFIDF or embedding."
   ]
  },
  {
   "cell_type": "code",
   "execution_count": 242,
   "metadata": {},
   "outputs": [],
   "source": [
    "from sklearn.feature_extraction.text import TfidfVectorizer\n",
    "# return the vectors\n",
    "def text_vector(target_method='tfidf', \\\n",
    "                target_list_train=X_train.to_list(),\\\n",
    "                target_list_test = X_test.to_list(),\\\n",
    "                max_features=None):\n",
    "    \"\"\"\n",
    "    type: target_method: string - (\"tfidf\", \"embedding\")\n",
    "    rtype: list of vectors\n",
    "    \"\"\"\n",
    "    \n",
    "\n",
    "    if target_method == \"embedding\":\n",
    "        use_x_train = []\n",
    "        use_x_test = []\n",
    "        use_x_train = use(target_list_train)\n",
    "        use_x_test = use(target_list_test)\n",
    "        return use_x_train, use_x_test\n",
    "    \n",
    "    if target_method == \"tfidf\":\n",
    "        vectorizer = TfidfVectorizer(max_features=max_features)\n",
    "        tfidf_train = vectorizer.fit_transform(target_list_train)\n",
    "        tfidf_test = vectorizer.transform(target_list_test)\n",
    "        tfidf_scaler = MaxAbsScaler()\n",
    "        tfidf_x_train = tfidf_scaler.fit_transform(tfidf_train)\n",
    "        tfidf_x_test = tfidf_scaler.transform(tfidf_test)\n",
    "        return tfidf_x_train, tfidf_x_test"
   ]
  },
  {
   "cell_type": "markdown",
   "metadata": {},
   "source": [
    "### TFIDF Logistic Regression "
   ]
  },
  {
   "cell_type": "code",
   "execution_count": 243,
   "metadata": {},
   "outputs": [
    {
     "name": "stdout",
     "output_type": "stream",
     "text": [
      "accuracy percentage is 51.51%\n",
      "Wall time: 1.18 s\n"
     ]
    }
   ],
   "source": [
    "%%time\n",
    "\n",
    "tfidf_x_train, tfidf_x_test = text_vector(\"tfidf\", X_train, X_test)\n",
    "\n",
    "import pandas as pd\n",
    "import numpy as np\n",
    "from sklearn.linear_model import LogisticRegression\n",
    "from sklearn.metrics import accuracy_score, confusion_matrix\n",
    "\n",
    "logmodel = LogisticRegression()\n",
    "logmodel.fit(tfidf_x_train, y_train)\n",
    "\n",
    "predictions = logmodel.predict(tfidf_x_test)\n",
    "#print(accuracy_score(y_test, predictions))\n",
    "\n",
    "accuracy_tfidf = accuracy_score(y_test, predictions)\n",
    "percentage = \"{:.2%}\".format(accuracy_tfidf)\n",
    "print(\"accuracy percentage is\", percentage)\n",
    "\n"
   ]
  },
  {
   "cell_type": "markdown",
   "metadata": {},
   "source": [
    "We got an accuracy below 50% for the TFIDF logistic regression."
   ]
  },
  {
   "cell_type": "markdown",
   "metadata": {},
   "source": [
    "### Embeddings Logistic Regression"
   ]
  },
  {
   "cell_type": "code",
   "execution_count": 244,
   "metadata": {},
   "outputs": [
    {
     "name": "stdout",
     "output_type": "stream",
     "text": [
      "accuracy percentage is 51.01%\n",
      "Wall time: 3.17 s\n"
     ]
    }
   ],
   "source": [
    "%%time\n",
    "\n",
    "# embedding\n",
    "embedding_x_train, embedding_x_test = text_vector(\"embedding\")\n",
    "\n",
    "import pandas as pd\n",
    "import numpy as np\n",
    "from sklearn.linear_model import LogisticRegression\n",
    "from sklearn.metrics import accuracy_score, confusion_matrix\n",
    "\n",
    "logmodel = LogisticRegression()\n",
    "logmodel.fit(embedding_x_train, y_train)\n",
    "\n",
    "predictions = logmodel.predict(embedding_x_test)\n",
    "#print(accuracy_score(y_test, predictions))\n",
    "\n",
    "accuracy_embeddings = accuracy_score(y_test, predictions)\n",
    "percentage = \"{:.2%}\".format(accuracy_embeddings)\n",
    "print(\"accuracy percentage is\", percentage)\n",
    "\n"
   ]
  },
  {
   "cell_type": "markdown",
   "metadata": {},
   "source": [
    "We got a slightly better accuracy with embeddings and logistic regression."
   ]
  },
  {
   "cell_type": "markdown",
   "metadata": {},
   "source": [
    "<h3> MLP classfier </h3>\n"
   ]
  },
  {
   "cell_type": "code",
   "execution_count": 245,
   "metadata": {},
   "outputs": [
    {
     "name": "stdout",
     "output_type": "stream",
     "text": [
      "accuracy percentage is 47.99%\n"
     ]
    }
   ],
   "source": [
    "from sklearn.neural_network import MLPClassifier\n",
    "from sklearn.datasets import make_classification\n",
    "\n",
    "clf = MLPClassifier(max_iter = 300).fit(tfidf_x_train, y_train)\n",
    "predictions = clf.predict(tfidf_x_test)\n",
    "\n",
    "accuracy_score(y_test, predictions)\n",
    "\n",
    "accuracy_stock_mlp = accuracy_score(y_test, predictions)\n",
    "percentage = \"{:.2%}\".format(accuracy_stock_mlp)\n",
    "print(\"accuracy percentage is\", percentage)"
   ]
  },
  {
   "cell_type": "markdown",
   "metadata": {},
   "source": [
    "# Text related to stock "
   ]
  },
  {
   "cell_type": "markdown",
   "metadata": {},
   "source": [
    "### Filter the dataset for stock related keywords"
   ]
  },
  {
   "cell_type": "markdown",
   "metadata": {},
   "source": [
    "Now we want to look at the performance of our models based on only stock related keywords. \n",
    "\n",
    "Used the column with the top 25 headlines to get the new dataframe with stock related keywords only. \n",
    "\n",
    "The new dataframe has 553 rows compared to close to 2,000 for the original column."
   ]
  },
  {
   "cell_type": "code",
   "execution_count": 226,
   "metadata": {},
   "outputs": [
    {
     "name": "stderr",
     "output_type": "stream",
     "text": [
      "<ipython-input-226-b5987a2b85a0>:9: SettingWithCopyWarning: \n",
      "A value is trying to be set on a copy of a slice from a DataFrame.\n",
      "Try using .loc[row_indexer,col_indexer] = value instead\n",
      "\n",
      "See the caveats in the documentation: https://pandas.pydata.org/pandas-docs/stable/user_guide/indexing.html#returning-a-view-versus-a-copy\n",
      "  merged_data_keywords['Label'] = merged_data_keywords['Label'].astype(str)\n",
      "<ipython-input-226-b5987a2b85a0>:14: SettingWithCopyWarning: \n",
      "A value is trying to be set on a copy of a slice from a DataFrame.\n",
      "Try using .loc[row_indexer,col_indexer] = value instead\n",
      "\n",
      "See the caveats in the documentation: https://pandas.pydata.org/pandas-docs/stable/user_guide/indexing.html#returning-a-view-versus-a-copy\n",
      "  stock_keyword['Label'] = stock_keyword['Label'].astype(int)\n"
     ]
    }
   ],
   "source": [
    "stock_related_keywords = \"stock|market|feds|bond|bonds|stocks|bull|bear\"\n",
    "\n",
    "import numpy as np\n",
    "\n",
    "temp_df = merged_data.copy()\n",
    "\n",
    "merged_data_keywords = temp_df[['top25_headlines', 'Label']]\n",
    "\n",
    "merged_data_keywords['Label'] = merged_data_keywords['Label'].astype(str)\n",
    "\n",
    "mask = np.column_stack([merged_data_keywords[col].str.contains(stock_related_keywords, na=False) for col in merged_data_keywords])\n",
    "stock_keyword = merged_data_keywords.loc[mask.any(axis=1)]\n",
    "\n",
    "stock_keyword['Label'] = stock_keyword['Label'].astype(int)\n",
    " \n",
    "#stock_keyword"
   ]
  },
  {
   "cell_type": "markdown",
   "metadata": {},
   "source": [
    "Train test split for stock keyword dataframe."
   ]
  },
  {
   "cell_type": "code",
   "execution_count": 235,
   "metadata": {},
   "outputs": [],
   "source": [
    "from sklearn.model_selection import train_test_split\n",
    "\n",
    "X = stock_keyword['top25_headlines']\n",
    "y = stock_keyword.iloc[:,1]\n",
    "\n",
    "X_train, X_test, y_train, y_test = train_test_split(X, y, test_size=0.2)"
   ]
  },
  {
   "cell_type": "markdown",
   "metadata": {},
   "source": [
    "### Run With TFIDF"
   ]
  },
  {
   "cell_type": "code",
   "execution_count": 236,
   "metadata": {},
   "outputs": [],
   "source": [
    "tfidf_x_train, tfidf_x_test = text_vector(\"tfidf\", \\\n",
    "                                          X_train,\\\n",
    "                                          X_test\n",
    "                                         )"
   ]
  },
  {
   "cell_type": "code",
   "execution_count": 233,
   "metadata": {},
   "outputs": [
    {
     "name": "stdout",
     "output_type": "stream",
     "text": [
      "accuracy percentage is 54.55%\n"
     ]
    }
   ],
   "source": [
    "from sklearn.linear_model import LogisticRegression\n",
    "logmodel = LogisticRegression()\n",
    "logmodel.fit(tfidf_x_train,y_train)\n",
    "predictions = logmodel.predict(tfidf_x_test)\n",
    "\n",
    "accuracy_stock_tfidf = accuracy_score(y_test, predictions)\n",
    "percentage = \"{:.2%}\".format(accuracy_stock_tfidf)\n",
    "print(\"accuracy percentage is\", percentage)"
   ]
  },
  {
   "cell_type": "markdown",
   "metadata": {},
   "source": [
    "## Run with MLP"
   ]
  },
  {
   "cell_type": "code",
   "execution_count": 237,
   "metadata": {},
   "outputs": [
    {
     "name": "stdout",
     "output_type": "stream",
     "text": [
      "accuracy percentage is 56.06%\n"
     ]
    }
   ],
   "source": [
    "from sklearn.neural_network import MLPClassifier\n",
    "from sklearn.datasets import make_classification\n",
    "\n",
    "clf = MLPClassifier(max_iter = 300).fit(tfidf_x_train, y_train)\n",
    "predictions = clf.predict(tfidf_x_test)\n",
    "\n",
    "accuracy_score(y_test, predictions)\n",
    "\n",
    "accuracy_stock_mlp = accuracy_score(y_test, predictions)\n",
    "percentage = \"{:.2%}\".format(accuracy_stock_mlp)\n",
    "print(\"accuracy percentage is\", percentage)"
   ]
  },
  {
   "cell_type": "markdown",
   "metadata": {},
   "source": [
    "# Sentiment Analysis "
   ]
  },
  {
   "cell_type": "markdown",
   "metadata": {},
   "source": [
    "Next we will move on to our second research question:\n",
    "\n",
    "<b> Can the sentiment of reddit daily news headlines be used to predict past stock prices? </b>"
   ]
  },
  {
   "cell_type": "markdown",
   "metadata": {},
   "source": [
    "Write function to get the sentiment using vader and textblob."
   ]
  },
  {
   "cell_type": "code",
   "execution_count": 198,
   "metadata": {},
   "outputs": [
    {
     "name": "stderr",
     "output_type": "stream",
     "text": [
      "[nltk_data] Downloading package vader_lexicon to\n",
      "[nltk_data]     C:\\Users\\Josh\\AppData\\Roaming\\nltk_data...\n",
      "[nltk_data]   Package vader_lexicon is already up-to-date!\n"
     ]
    }
   ],
   "source": [
    "#uses textblob to get the sentiment scores of the column \n",
    "import nltk\n",
    "nltk.download('vader_lexicon')\n",
    "from textblob import TextBlob\n",
    "import nltk\n",
    "from nltk.sentiment import SentimentIntensityAnalyzer\n",
    "from nltk.sentiment import vader\n",
    "sia = vader.SentimentIntensityAnalyzer()\n",
    "\n",
    "def text_sent(target_method, target_list_text):\n",
    "    \"\"\"\n",
    "    \n",
    "    rtype: list of entiment scores\n",
    "    \"\"\"\n",
    "    if target_method == 'blob':\n",
    "        blob_list = []\n",
    "        for title in target_list_text:\n",
    "            blob = TextBlob(title)\n",
    "            blob_list.append(blob.sentiment.polarity)\n",
    "    \n",
    "        return blob_list\n",
    "    \n",
    "    if target_method == 'NLTK':\n",
    "        NLTK_list = []\n",
    "\n",
    "        for title in target_list_text:\n",
    "            sia_polarity = sia.polarity_scores(title)\n",
    "            NLTK_list.append(sia_polarity['compound'])\n",
    "        return NLTK_list"
   ]
  },
  {
   "cell_type": "markdown",
   "metadata": {},
   "source": [
    "Get the average sentiment for blob and Vader"
   ]
  },
  {
   "cell_type": "code",
   "execution_count": 199,
   "metadata": {},
   "outputs": [],
   "source": [
    "# Average sentiment for column by blob\n",
    "\n",
    "column_list_blob = []\n",
    "\n",
    "for i in range(1,23):\n",
    "    #print(i,'i is')\n",
    "    i_str = str(i)\n",
    "    Topic = ('Top'+i_str) # 'Top' + 1 = 'Top1'\n",
    "    Topic_sent_blob = (Topic + '_sent_' 'blob') \n",
    "    topic_list = text_sent(\"blob\",merged_data_sent[Topic])\n",
    "    merged_data_sent[Topic_sent_blob] = topic_list\n",
    "    column_list_blob.append(Topic_sent_blob)\n",
    "\n",
    "\n",
    "merged_data_sent_sum_blob = merged_data_sent[column_list_blob].sum(axis=1)\n",
    "merged_data_sent[\"average_blob_sent\"] = merged_data_sent_sum_blob / 22\n",
    "\n",
    " \n",
    "# Average sentiment by column for NLTK   \n",
    "\n",
    "\n",
    "column_list_nltk = []\n",
    "\n",
    "for i in range(1,23):\n",
    "    i_str = str(i)\n",
    "    Topic = ('Top'+i_str)\n",
    "    Topic_sent_nltk = (Topic + '_sent_' 'NLTK')\n",
    "    topic_list = text_sent(\"NLTK\",merged_data_sent[Topic])\n",
    "    merged_data_sent[Topic_sent_nltk] = topic_list\n",
    "    column_list_nltk.append(Topic_sent_nltk)\n",
    "\n",
    "merged_data_sent_sum_nltk = merged_data_sent[column_list_nltk].sum(axis=1)\n",
    "merged_data_sent[\"average_nltk_sent\"] = merged_data_sent_sum_nltk / 22 \n",
    "    \n"
   ]
  },
  {
   "cell_type": "code",
   "execution_count": 200,
   "metadata": {},
   "outputs": [],
   "source": [
    "#merged_data_sent['Top23']"
   ]
  },
  {
   "cell_type": "markdown",
   "metadata": {},
   "source": [
    "Create a DF with just the average blob sent and the average nltk sent. Get the average sent for each day"
   ]
  },
  {
   "cell_type": "code",
   "execution_count": 201,
   "metadata": {},
   "outputs": [
    {
     "name": "stdout",
     "output_type": "stream",
     "text": [
      "average NLTK sent is -0.21\n",
      "average Blob sent is 0.01\n"
     ]
    },
    {
     "data": {
      "text/html": [
       "<div>\n",
       "<style scoped>\n",
       "    .dataframe tbody tr th:only-of-type {\n",
       "        vertical-align: middle;\n",
       "    }\n",
       "\n",
       "    .dataframe tbody tr th {\n",
       "        vertical-align: top;\n",
       "    }\n",
       "\n",
       "    .dataframe thead th {\n",
       "        text-align: right;\n",
       "    }\n",
       "</style>\n",
       "<table border=\"1\" class=\"dataframe\">\n",
       "  <thead>\n",
       "    <tr style=\"text-align: right;\">\n",
       "      <th></th>\n",
       "      <th>average_nltk_sent</th>\n",
       "      <th>average_blob_sent</th>\n",
       "      <th>Label</th>\n",
       "    </tr>\n",
       "  </thead>\n",
       "  <tbody>\n",
       "    <tr>\n",
       "      <th>1988</th>\n",
       "      <td>-0.318659</td>\n",
       "      <td>-0.048722</td>\n",
       "      <td>0</td>\n",
       "    </tr>\n",
       "    <tr>\n",
       "      <th>1987</th>\n",
       "      <td>-0.114414</td>\n",
       "      <td>0.030705</td>\n",
       "      <td>1</td>\n",
       "    </tr>\n",
       "    <tr>\n",
       "      <th>1986</th>\n",
       "      <td>-0.264577</td>\n",
       "      <td>-0.041955</td>\n",
       "      <td>0</td>\n",
       "    </tr>\n",
       "    <tr>\n",
       "      <th>1985</th>\n",
       "      <td>-0.131123</td>\n",
       "      <td>0.005201</td>\n",
       "      <td>0</td>\n",
       "    </tr>\n",
       "    <tr>\n",
       "      <th>1984</th>\n",
       "      <td>-0.157518</td>\n",
       "      <td>0.054723</td>\n",
       "      <td>1</td>\n",
       "    </tr>\n",
       "    <tr>\n",
       "      <th>...</th>\n",
       "      <td>...</td>\n",
       "      <td>...</td>\n",
       "      <td>...</td>\n",
       "    </tr>\n",
       "    <tr>\n",
       "      <th>4</th>\n",
       "      <td>-0.150886</td>\n",
       "      <td>-0.007135</td>\n",
       "      <td>0</td>\n",
       "    </tr>\n",
       "    <tr>\n",
       "      <th>3</th>\n",
       "      <td>-0.003755</td>\n",
       "      <td>0.036262</td>\n",
       "      <td>1</td>\n",
       "    </tr>\n",
       "    <tr>\n",
       "      <th>2</th>\n",
       "      <td>-0.282536</td>\n",
       "      <td>0.034246</td>\n",
       "      <td>1</td>\n",
       "    </tr>\n",
       "    <tr>\n",
       "      <th>1</th>\n",
       "      <td>-0.214800</td>\n",
       "      <td>0.020274</td>\n",
       "      <td>1</td>\n",
       "    </tr>\n",
       "    <tr>\n",
       "      <th>0</th>\n",
       "      <td>-0.297809</td>\n",
       "      <td>0.025758</td>\n",
       "      <td>1</td>\n",
       "    </tr>\n",
       "  </tbody>\n",
       "</table>\n",
       "<p>1989 rows × 3 columns</p>\n",
       "</div>"
      ],
      "text/plain": [
       "      average_nltk_sent  average_blob_sent  Label\n",
       "1988          -0.318659          -0.048722      0\n",
       "1987          -0.114414           0.030705      1\n",
       "1986          -0.264577          -0.041955      0\n",
       "1985          -0.131123           0.005201      0\n",
       "1984          -0.157518           0.054723      1\n",
       "...                 ...                ...    ...\n",
       "4             -0.150886          -0.007135      0\n",
       "3             -0.003755           0.036262      1\n",
       "2             -0.282536           0.034246      1\n",
       "1             -0.214800           0.020274      1\n",
       "0             -0.297809           0.025758      1\n",
       "\n",
       "[1989 rows x 3 columns]"
      ]
     },
     "execution_count": 201,
     "metadata": {},
     "output_type": "execute_result"
    }
   ],
   "source": [
    "label_sent_df= merged_data_sent[['average_nltk_sent', 'average_blob_sent', 'Label']]\n",
    "\n",
    "print('average NLTK sent is' , round(label_sent_df[\"average_nltk_sent\"].mean(),2))\n",
    "print('average Blob sent is' , round(label_sent_df[\"average_blob_sent\"].mean(),2))\n",
    "label_sent_df"
   ]
  },
  {
   "cell_type": "markdown",
   "metadata": {},
   "source": [
    "Check if positive sentiment for the day is related to a rise in stock prices. \n",
    "\n",
    "If the Dow Jones went up and the sentiment was postive mark as \"correct\". If the Dow Jones went up and sentiment was down mark as incorrect. \n",
    "\n",
    "If the Dow Jones went down and the sentiment was postive mark as \"incorrect\". If the Dow Jones went down and sentiment was down marka as incorrect. \n",
    "\n",
    "Do this for both vader and blob."
   ]
  },
  {
   "cell_type": "code",
   "execution_count": 202,
   "metadata": {},
   "outputs": [
    {
     "name": "stderr",
     "output_type": "stream",
     "text": [
      "<ipython-input-202-514128ad4fb7>:38: SettingWithCopyWarning: \n",
      "A value is trying to be set on a copy of a slice from a DataFrame.\n",
      "Try using .loc[row_indexer,col_indexer] = value instead\n",
      "\n",
      "See the caveats in the documentation: https://pandas.pydata.org/pandas-docs/stable/user_guide/indexing.html#returning-a-view-versus-a-copy\n",
      "  label_sent_df['nltk_correct_score'] = nltk_correct\n",
      "<ipython-input-202-514128ad4fb7>:39: SettingWithCopyWarning: \n",
      "A value is trying to be set on a copy of a slice from a DataFrame.\n",
      "Try using .loc[row_indexer,col_indexer] = value instead\n",
      "\n",
      "See the caveats in the documentation: https://pandas.pydata.org/pandas-docs/stable/user_guide/indexing.html#returning-a-view-versus-a-copy\n",
      "  label_sent_df['blob_correct_score'] = blob_correct\n"
     ]
    }
   ],
   "source": [
    "nltk_correct = []\n",
    "blob_correct = []\n",
    "\n",
    "\n",
    "for average_nltk_sent, average_blob_sent, Label in label_sent_df.itertuples(index=False):\n",
    "    if average_nltk_sent <0:\n",
    "        if Label == 0:\n",
    "            correct = 1\n",
    "            nltk_correct.append(1)\n",
    "        else:\n",
    "            correct = 0\n",
    "            nltk_correct.append(0)\n",
    "    else:\n",
    "    #if average_nltk_sent > 0:\n",
    "        if Label == 1:\n",
    "            correct = 1\n",
    "            nltk_correct.append(1)\n",
    "        else:\n",
    "            correct = 0\n",
    "            nltk_correct.append(0)\n",
    "            \n",
    "    if average_blob_sent <0:\n",
    "        if Label == 0:\n",
    "            correct = 1\n",
    "            blob_correct.append(1)\n",
    "        else:\n",
    "            correct = 0\n",
    "            blob_correct.append(0)\n",
    "    else:\n",
    "    #if average_nltk_sent > 0:\n",
    "        if Label == 1:\n",
    "            correct = 1\n",
    "            blob_correct.append(1)\n",
    "        else:\n",
    "            correct = 0\n",
    "            blob_correct.append(0)\n",
    "\n",
    "label_sent_df['nltk_correct_score'] = nltk_correct\n",
    "label_sent_df['blob_correct_score'] = blob_correct\n",
    "\n",
    "    \n",
    "#label_sent_df \n",
    "\n"
   ]
  },
  {
   "cell_type": "markdown",
   "metadata": {},
   "source": [
    "Insert extra columns in DF showing if the blob or vader sent was negative or postive"
   ]
  },
  {
   "cell_type": "code",
   "execution_count": 203,
   "metadata": {},
   "outputs": [
    {
     "name": "stderr",
     "output_type": "stream",
     "text": [
      "<ipython-input-203-0c79e7c9b74c>:10: SettingWithCopyWarning: \n",
      "A value is trying to be set on a copy of a slice from a DataFrame.\n",
      "Try using .loc[row_indexer,col_indexer] = value instead\n",
      "\n",
      "See the caveats in the documentation: https://pandas.pydata.org/pandas-docs/stable/user_guide/indexing.html#returning-a-view-versus-a-copy\n",
      "  label_sent_df['average_blob_sent_pos'] = average_blob_sent_pos\n",
      "<ipython-input-203-0c79e7c9b74c>:19: SettingWithCopyWarning: \n",
      "A value is trying to be set on a copy of a slice from a DataFrame.\n",
      "Try using .loc[row_indexer,col_indexer] = value instead\n",
      "\n",
      "See the caveats in the documentation: https://pandas.pydata.org/pandas-docs/stable/user_guide/indexing.html#returning-a-view-versus-a-copy\n",
      "  label_sent_df['average_nltk_sent_pos'] = average_nltk_sent_pos\n",
      "<ipython-input-203-0c79e7c9b74c>:22: SettingWithCopyWarning: \n",
      "A value is trying to be set on a copy of a slice from a DataFrame.\n",
      "Try using .loc[row_indexer,col_indexer] = value instead\n",
      "\n",
      "See the caveats in the documentation: https://pandas.pydata.org/pandas-docs/stable/user_guide/indexing.html#returning-a-view-versus-a-copy\n",
      "  label_sent_df['nltk_equals_blob_pos'] = (label_sent_df['average_nltk_sent_pos']==label_sent_df['average_blob_sent_pos']).astype(int)\n"
     ]
    }
   ],
   "source": [
    "import numpy as np\n",
    "\n",
    "average_blob_sent_pos = []\n",
    "for x in label_sent_df['average_blob_sent']:\n",
    "    if x > 0:\n",
    "        average_blob_sent_pos.append(1)\n",
    "    else:\n",
    "        average_blob_sent_pos.append(0)\n",
    "\n",
    "label_sent_df['average_blob_sent_pos'] = average_blob_sent_pos\n",
    "\n",
    "average_nltk_sent_pos = []\n",
    "for x in label_sent_df['average_nltk_sent']:\n",
    "    if x > 0:\n",
    "        average_nltk_sent_pos.append(1)\n",
    "    else:\n",
    "        average_nltk_sent_pos.append(0)\n",
    "\n",
    "label_sent_df['average_nltk_sent_pos'] = average_nltk_sent_pos\n",
    "\n",
    "\n",
    "label_sent_df['nltk_equals_blob_pos'] = (label_sent_df['average_nltk_sent_pos']==label_sent_df['average_blob_sent_pos']).astype(int)\n",
    "\n",
    "#label_sent_df\n",
    "\n"
   ]
  },
  {
   "cell_type": "markdown",
   "metadata": {},
   "source": [
    "Create plots based of the amount of postives days for both vader and blob sent. \n",
    "\n",
    "Also compare how many of the vader sentiment matching the blob sentiment. "
   ]
  },
  {
   "cell_type": "code",
   "execution_count": 204,
   "metadata": {},
   "outputs": [
    {
     "name": "stderr",
     "output_type": "stream",
     "text": [
      "<ipython-input-204-5c11b75d0e28>:6: SettingWithCopyWarning: \n",
      "A value is trying to be set on a copy of a slice from a DataFrame.\n",
      "Try using .loc[row_indexer,col_indexer] = value instead\n",
      "\n",
      "See the caveats in the documentation: https://pandas.pydata.org/pandas-docs/stable/user_guide/indexing.html#returning-a-view-versus-a-copy\n",
      "  label_sent_df['nltk_equals_blob_pos'] = label_sent_df.nltk_equals_blob_pos.astype(bool)\n",
      "<ipython-input-204-5c11b75d0e28>:7: SettingWithCopyWarning: \n",
      "A value is trying to be set on a copy of a slice from a DataFrame.\n",
      "Try using .loc[row_indexer,col_indexer] = value instead\n",
      "\n",
      "See the caveats in the documentation: https://pandas.pydata.org/pandas-docs/stable/user_guide/indexing.html#returning-a-view-versus-a-copy\n",
      "  label_sent_df['average_blob_sent_pos'] = label_sent_df.average_blob_sent_pos.astype(bool)\n",
      "<ipython-input-204-5c11b75d0e28>:8: SettingWithCopyWarning: \n",
      "A value is trying to be set on a copy of a slice from a DataFrame.\n",
      "Try using .loc[row_indexer,col_indexer] = value instead\n",
      "\n",
      "See the caveats in the documentation: https://pandas.pydata.org/pandas-docs/stable/user_guide/indexing.html#returning-a-view-versus-a-copy\n",
      "  label_sent_df['average_nltk_sent_pos'] = label_sent_df.average_nltk_sent_pos.astype(bool)\n",
      "<ipython-input-204-5c11b75d0e28>:9: SettingWithCopyWarning: \n",
      "A value is trying to be set on a copy of a slice from a DataFrame.\n",
      "Try using .loc[row_indexer,col_indexer] = value instead\n",
      "\n",
      "See the caveats in the documentation: https://pandas.pydata.org/pandas-docs/stable/user_guide/indexing.html#returning-a-view-versus-a-copy\n",
      "  label_sent_df['nltk_correct_score'] = label_sent_df.nltk_correct_score.astype(bool)\n",
      "<ipython-input-204-5c11b75d0e28>:10: SettingWithCopyWarning: \n",
      "A value is trying to be set on a copy of a slice from a DataFrame.\n",
      "Try using .loc[row_indexer,col_indexer] = value instead\n",
      "\n",
      "See the caveats in the documentation: https://pandas.pydata.org/pandas-docs/stable/user_guide/indexing.html#returning-a-view-versus-a-copy\n",
      "  label_sent_df['blob_correct_score'] = label_sent_df.blob_correct_score.astype(bool)\n"
     ]
    }
   ],
   "source": [
    "import seaborn as sns\n",
    "import matplotlib.pyplot as plt\n",
    "\n",
    "\n",
    "\n",
    "label_sent_df['nltk_equals_blob_pos'] = label_sent_df.nltk_equals_blob_pos.astype(bool)\n",
    "label_sent_df['average_blob_sent_pos'] = label_sent_df.average_blob_sent_pos.astype(bool)\n",
    "label_sent_df['average_nltk_sent_pos'] = label_sent_df.average_nltk_sent_pos.astype(bool)\n",
    "label_sent_df['nltk_correct_score'] = label_sent_df.nltk_correct_score.astype(bool)\n",
    "label_sent_df['blob_correct_score'] = label_sent_df.blob_correct_score.astype(bool)"
   ]
  },
  {
   "cell_type": "markdown",
   "metadata": {},
   "source": [
    "### Vader VS Textblob Average Daily Sentiment "
   ]
  },
  {
   "cell_type": "code",
   "execution_count": 205,
   "metadata": {},
   "outputs": [
    {
     "data": {
      "image/png": "[encoded data removed]",
      "text/plain": [
       "<Figure size 432x288 with 1 Axes>"
      ]
     },
     "metadata": {
      "needs_background": "light"
     },
     "output_type": "display_data"
    }
   ],
   "source": [
    "percentage = lambda i: len(i) / float(len(x)) * 100\n",
    "\n",
    "x= label_sent_df['average_blob_sent_pos']\n",
    "ax = sns.barplot(x=x, y=x,  estimator=percentage)\n",
    "ax.set(ylabel=\"Percentage\", xlabel = 'TextBlob Average Sentiment for Day Positive')\n",
    "plt.show()\n"
   ]
  },
  {
   "cell_type": "code",
   "execution_count": 206,
   "metadata": {},
   "outputs": [
    {
     "data": {
      "image/png": "[encoded data removed]",
      "text/plain": [
       "<Figure size 432x288 with 1 Axes>"
      ]
     },
     "metadata": {
      "needs_background": "light"
     },
     "output_type": "display_data"
    }
   ],
   "source": [
    "x= label_sent_df['average_nltk_sent_pos']\n",
    "ax = sns.barplot(x=x, y=x,  estimator=percentage)\n",
    "ax.set(ylabel=\"Percentage\", xlabel = 'Vader Average Sentiment for Day Positive')\n",
    "plt.show()"
   ]
  },
  {
   "cell_type": "markdown",
   "metadata": {},
   "source": [
    "While Textblob only had 39% of days with an average sentiment score, Vader had over 90% of days with a negative sentiment score."
   ]
  },
  {
   "cell_type": "code",
   "execution_count": 207,
   "metadata": {},
   "outputs": [
    {
     "data": {
      "image/png": "[encoded data removed]",
      "text/plain": [
       "<Figure size 432x288 with 1 Axes>"
      ]
     },
     "metadata": {
      "needs_background": "light"
     },
     "output_type": "display_data"
    }
   ],
   "source": [
    "percentage = lambda i: len(i) / float(len(x)) * 100\n",
    "\n",
    "x= label_sent_df['nltk_equals_blob_pos']\n",
    "ax = sns.barplot(x=x, y=x,  estimator=percentage)\n",
    "ax.set(ylabel=\"Percentage\", xlabel = 'Vader & Textblob have Same Sentiment', title = 'Vader & Textblob Same Sentiment Polarity')\n",
    "plt.show()"
   ]
  },
  {
   "cell_type": "markdown",
   "metadata": {},
   "source": [
    "Unsuprisingly, Vader and Textblob only match on polarity (neg and neg or pos and pos) around 40% of the time "
   ]
  },
  {
   "cell_type": "markdown",
   "metadata": {},
   "source": [
    "### Vader and Texblob Match with Dow Jones"
   ]
  },
  {
   "cell_type": "code",
   "execution_count": 208,
   "metadata": {},
   "outputs": [
    {
     "data": {
      "image/png": "[encoded data removed]",
      "text/plain": [
       "<Figure size 432x288 with 1 Axes>"
      ]
     },
     "metadata": {
      "needs_background": "light"
     },
     "output_type": "display_data"
    }
   ],
   "source": [
    "x= label_sent_df['blob_correct_score']\n",
    "ax = sns.barplot(x=x, y=x,  estimator=percentage)\n",
    "ax.set(ylabel=\"Percentage\", xlabel = 'TextBlob Score Matches Label Score')\n",
    "plt.show()\n"
   ]
  },
  {
   "cell_type": "code",
   "execution_count": 209,
   "metadata": {},
   "outputs": [
    {
     "data": {
      "image/png": "[encoded data removed]",
      "text/plain": [
       "<Figure size 432x288 with 1 Axes>"
      ]
     },
     "metadata": {
      "needs_background": "light"
     },
     "output_type": "display_data"
    }
   ],
   "source": [
    "x= label_sent_df['nltk_correct_score']\n",
    "ax = sns.barplot(x=x, y=x,  estimator=percentage)\n",
    "ax.set(ylabel=\"Percentage\", xlabel = 'Vader Score Matches Label Score')\n",
    "plt.show()"
   ]
  },
  {
   "cell_type": "markdown",
   "metadata": {},
   "source": [
    "Textblob does a slightly better job of matching the Dow Jones average, however both Textblob and Vader match right around 50% of the time."
   ]
  },
  {
   "cell_type": "markdown",
   "metadata": {},
   "source": [
    "# Sentiment With Decision Tree and Logistic Regression Models"
   ]
  },
  {
   "cell_type": "markdown",
   "metadata": {},
   "source": [
    "### Logistic Regression Model"
   ]
  },
  {
   "cell_type": "markdown",
   "metadata": {},
   "source": [
    "Perform a logistic regression model using sentiment to predict if stocks went up or down.\n",
    "\n",
    "Use text blob and NLTK as the X and the Dow Jones label of whether Dow Jones went down or up as the y."
   ]
  },
  {
   "cell_type": "markdown",
   "metadata": {},
   "source": [
    "#### Texblob "
   ]
  },
  {
   "cell_type": "code",
   "execution_count": 210,
   "metadata": {},
   "outputs": [],
   "source": [
    "from sklearn.model_selection import train_test_split\n",
    "import matplotlib.pyplot as plt\n",
    "import numpy as np\n",
    "from sklearn.linear_model import LogisticRegression\n",
    "from sklearn.metrics import classification_report, confusion_matrix\n",
    "\n",
    "model = LogisticRegression(solver='liblinear')\n",
    "\n",
    "\n",
    "X = merged_data_sent[['average_blob_sent']]\n",
    "y = merged_data_sent['Label']\n",
    "\n",
    "\n",
    "X_train, X_test, y_train, y_test = train_test_split(X, y, test_size=0.2)"
   ]
  },
  {
   "cell_type": "code",
   "execution_count": 211,
   "metadata": {},
   "outputs": [
    {
     "name": "stdout",
     "output_type": "stream",
     "text": [
      "              precision    recall  f1-score   support\n",
      "\n",
      "           0       0.00      0.00      0.00       179\n",
      "           1       0.55      1.00      0.71       219\n",
      "\n",
      "    accuracy                           0.55       398\n",
      "   macro avg       0.28      0.50      0.35       398\n",
      "weighted avg       0.30      0.55      0.39       398\n",
      "\n"
     ]
    },
    {
     "name": "stderr",
     "output_type": "stream",
     "text": [
      "C:\\Users\\Josh\\anaconda3\\lib\\site-packages\\sklearn\\metrics\\_classification.py:1221: UndefinedMetricWarning: Precision and F-score are ill-defined and being set to 0.0 in labels with no predicted samples. Use `zero_division` parameter to control this behavior.\n",
      "  _warn_prf(average, modifier, msg_start, len(result))\n"
     ]
    },
    {
     "data": {
      "image/png": "[encoded data removed]",
      "text/plain": [
       "<Figure size 576x576 with 1 Axes>"
      ]
     },
     "metadata": {
      "needs_background": "light"
     },
     "output_type": "display_data"
    }
   ],
   "source": [
    "from sklearn.linear_model import LogisticRegression\n",
    "logmodel = LogisticRegression()\n",
    "logmodel.fit(X_train,y_train)\n",
    "predictions_blob = logmodel.predict(X_test)\n",
    "\n",
    "from sklearn.metrics import classification_report\n",
    "print(classification_report(y_test,predictions_blob))\n",
    "\n",
    "cm = confusion_matrix(y_test, predictions_blob)\n",
    "\n",
    "fig, ax = plt.subplots(figsize=(8, 8))\n",
    "ax.imshow(cm)\n",
    "ax.grid(False)\n",
    "ax.xaxis.set(ticks=(0, 1), ticklabels=('Predicted Down', 'Predicted Up'))\n",
    "ax.yaxis.set(ticks=(0, 1), ticklabels=('Actual Down', 'Actual Up'))\n",
    "ax.set_ylim(1.5, -0.5)\n",
    "for i in range(2):\n",
    "    for j in range(2):\n",
    "        ax.text(j, i, cm[i, j], ha='center', va='center', color='red')\n",
    "plt.show()"
   ]
  },
  {
   "cell_type": "markdown",
   "metadata": {},
   "source": [
    "<b> Vader </b>"
   ]
  },
  {
   "cell_type": "code",
   "execution_count": 212,
   "metadata": {},
   "outputs": [],
   "source": [
    "#need to split into blob and NLTK and not combine together.\n",
    "\n",
    "\n",
    "\n",
    "from sklearn.model_selection import train_test_split\n",
    "import matplotlib.pyplot as plt\n",
    "import numpy as np\n",
    "from sklearn.linear_model import LogisticRegression\n",
    "from sklearn.metrics import classification_report, confusion_matrix\n",
    "\n",
    "model = LogisticRegression(solver='liblinear', random_state=0)\n",
    "\n",
    "\n",
    "X = merged_data_sent[['average_nltk_sent']]\n",
    "y = merged_data_sent['Label']\n",
    "\n",
    "\n",
    "X_train, X_test, y_train, y_test = train_test_split(X, y, test_size=0.2)"
   ]
  },
  {
   "cell_type": "code",
   "execution_count": 213,
   "metadata": {},
   "outputs": [
    {
     "name": "stderr",
     "output_type": "stream",
     "text": [
      "C:\\Users\\Josh\\anaconda3\\lib\\site-packages\\sklearn\\metrics\\_classification.py:1221: UndefinedMetricWarning: Precision and F-score are ill-defined and being set to 0.0 in labels with no predicted samples. Use `zero_division` parameter to control this behavior.\n",
      "  _warn_prf(average, modifier, msg_start, len(result))\n"
     ]
    },
    {
     "name": "stdout",
     "output_type": "stream",
     "text": [
      "              precision    recall  f1-score   support\n",
      "\n",
      "           0       0.00      0.00      0.00       190\n",
      "           1       0.52      1.00      0.69       208\n",
      "\n",
      "    accuracy                           0.52       398\n",
      "   macro avg       0.26      0.50      0.34       398\n",
      "weighted avg       0.27      0.52      0.36       398\n",
      "\n"
     ]
    },
    {
     "data": {
      "image/png": "[encoded data removed]",
      "text/plain": [
       "<Figure size 576x576 with 1 Axes>"
      ]
     },
     "metadata": {
      "needs_background": "light"
     },
     "output_type": "display_data"
    }
   ],
   "source": [
    "from sklearn.linear_model import LogisticRegression\n",
    "logmodel = LogisticRegression()\n",
    "logmodel.fit(X_train,y_train)\n",
    "\n",
    "predictions_nltk = logmodel.predict(X_test)\n",
    "\n",
    "from sklearn.metrics import classification_report\n",
    "print(classification_report(y_test,predictions_nltk))\n",
    "\n",
    "cm = confusion_matrix(y_test, predictions_nltk)\n",
    "\n",
    "fig, ax = plt.subplots(figsize=(8, 8))\n",
    "ax.imshow(cm)\n",
    "ax.grid(False)\n",
    "ax.xaxis.set(ticks=(0, 1), ticklabels=('Predicted Down', 'Predicted Up'))\n",
    "ax.yaxis.set(ticks=(0, 1), ticklabels=('Actual Down', 'Actual Up'))\n",
    "ax.set_ylim(1.5, -0.5)\n",
    "for i in range(2):\n",
    "    for j in range(2):\n",
    "        ax.text(j, i, cm[i, j], ha='center', va='center', color='red')\n",
    "plt.show()"
   ]
  },
  {
   "cell_type": "markdown",
   "metadata": {},
   "source": [
    "The vader logistic regression model was slightly more accurate than the textblob."
   ]
  },
  {
   "cell_type": "markdown",
   "metadata": {},
   "source": [
    "# Decision Tree Classifier"
   ]
  },
  {
   "cell_type": "markdown",
   "metadata": {},
   "source": [
    "<b> TextBlob </b>"
   ]
  },
  {
   "cell_type": "code",
   "execution_count": 214,
   "metadata": {},
   "outputs": [],
   "source": [
    "from sklearn.tree import DecisionTreeClassifier\n",
    "\n",
    "classifier_tree = DecisionTreeClassifier()\n",
    "\n",
    "X_blob = merged_data_sent[['average_blob_sent']]\n",
    "y_blob = merged_data_sent['Label']\n",
    "\n",
    "\n",
    "X_train, X_test, y_train, y_test = train_test_split(X_blob, y_blob, test_size=0.2)"
   ]
  },
  {
   "cell_type": "code",
   "execution_count": 215,
   "metadata": {},
   "outputs": [
    {
     "name": "stdout",
     "output_type": "stream",
     "text": [
      "Decision Tree Classifier using text blob \n",
      "               precision    recall  f1-score   support\n",
      "\n",
      "           0       0.46      0.49      0.47       175\n",
      "           1       0.58      0.56      0.57       223\n",
      "\n",
      "    accuracy                           0.53       398\n",
      "   macro avg       0.52      0.52      0.52       398\n",
      "weighted avg       0.53      0.53      0.53       398\n",
      "\n"
     ]
    },
    {
     "data": {
      "image/png": "[encoded data removed]",
      "text/plain": [
       "<Figure size 360x360 with 1 Axes>"
      ]
     },
     "metadata": {
      "needs_background": "light"
     },
     "output_type": "display_data"
    }
   ],
   "source": [
    "y_predict_blob = classifier_tree.fit(X_train, y_train).predict(X_test)\n",
    "\n",
    "print(\"Decision Tree Classifier using text blob \\n\",classification_report(y_test, y_predict_blob))\n",
    "\n",
    "\n",
    "cm = confusion_matrix(y_test, y_predict_blob)\n",
    "\n",
    "fig, ax = plt.subplots(figsize=(5, 5))\n",
    "ax.imshow(cm)\n",
    "ax.grid(False)\n",
    "ax.xaxis.set(ticks=(0, 1), ticklabels=('Predicted Down', 'Predicted Up'))\n",
    "ax.yaxis.set(ticks=(0, 1), ticklabels=('Actual Down', 'Actual Up'))\n",
    "ax.set_ylim(1.5, -0.5)\n",
    "for i in range(2):\n",
    "    for j in range(2):\n",
    "        ax.text(j, i, cm[i, j], ha='center', va='center', color='black')\n",
    "plt.show()"
   ]
  },
  {
   "cell_type": "markdown",
   "metadata": {},
   "source": [
    "#### Vader"
   ]
  },
  {
   "cell_type": "code",
   "execution_count": 216,
   "metadata": {},
   "outputs": [],
   "source": [
    "from sklearn.tree import DecisionTreeClassifier\n",
    "\n",
    "classifier_tree = DecisionTreeClassifier()\n",
    "\n",
    "X_nltk = merged_data_sent[['average_nltk_sent']]\n",
    "y_nltk = merged_data_sent['Label']\n",
    "\n",
    "\n",
    "X_train, X_test, y_train, y_test = train_test_split(X_nltk, y_nltk, test_size=0.2)"
   ]
  },
  {
   "cell_type": "code",
   "execution_count": 217,
   "metadata": {},
   "outputs": [
    {
     "name": "stdout",
     "output_type": "stream",
     "text": [
      "Decision Tree Classifier using NLTK \n",
      "               precision    recall  f1-score   support\n",
      "\n",
      "           0       0.49      0.47      0.48       201\n",
      "           1       0.48      0.50      0.49       197\n",
      "\n",
      "    accuracy                           0.48       398\n",
      "   macro avg       0.49      0.49      0.48       398\n",
      "weighted avg       0.49      0.48      0.48       398\n",
      "\n"
     ]
    },
    {
     "data": {
      "image/png": "[encoded data removed]",
      "text/plain": [
       "<Figure size 360x360 with 1 Axes>"
      ]
     },
     "metadata": {
      "needs_background": "light"
     },
     "output_type": "display_data"
    }
   ],
   "source": [
    "y_predict_nltk = classifier_tree.fit(X_train, y_train).predict(X_test)\n",
    "\n",
    "print(\"Decision Tree Classifier using NLTK \\n\", classification_report(y_test, y_predict_nltk))\n",
    "\n",
    "\n",
    "cm = confusion_matrix(y_test, y_predict_nltk)\n",
    "\n",
    "fig, ax = plt.subplots(figsize=(5, 5))\n",
    "ax.imshow(cm)\n",
    "ax.grid(False)\n",
    "ax.xaxis.set(ticks=(0, 1), ticklabels=('Predicted Down', 'Predicted Up'))\n",
    "ax.yaxis.set(ticks=(0, 1), ticklabels=('Actual Down', 'Actual Up'))\n",
    "ax.set_ylim(1.5, -0.5)\n",
    "for i in range(2):\n",
    "    for j in range(2):\n",
    "        ax.text(j, i, cm[i, j], ha='center', va='center', color='black')\n",
    "plt.show()"
   ]
  },
  {
   "cell_type": "markdown",
   "metadata": {},
   "source": [
    "For the decision tree, both vader and textblob had similar accuracy results. "
   ]
  },
  {
   "cell_type": "code",
   "execution_count": null,
   "metadata": {},
   "outputs": [],
   "source": []
  },
  {
   "cell_type": "code",
   "execution_count": null,
   "metadata": {},
   "outputs": [],
   "source": []
  },
  {
   "cell_type": "markdown",
   "metadata": {},
   "source": [
    "# Overall Conclusions"
   ]
  },
  {
   "cell_type": "markdown",
   "metadata": {},
   "source": [
    "### TFIDF and Embeddings\n",
    "\n",
    "\n",
    "- In general, our models do not predict the trend of the Dow Jones Industrial Average of each day very well. <br>\n",
    "\n",
    "- Even though we acheived 51% and 57% accuracy scores, they are still too low to say with any certainty that they are good at predicting the market.  With related keywords such as “stock” or “market”, we have increased accuracy by over 5% for our logistic regression model. \n",
    "\n",
    "- We believe that our input variables are not noisy, because we were able to increase our accuracy for machine learning models by adding filters and selecting more related variables out of the original data sets, such as selecting the texts with the key words, etc. \n",
    "\n",
    "\n",
    "### Sentiment\n",
    "\n",
    "- Textblob and Vader produced extremely different average sentiment scores.\n",
    "\n",
    "- Both Textblob and Vader have average accuracies around 53%, with the best average accuracy at 54% and logistic regression with slightly higher accuracies. \n",
    "\n",
    "- Our decision tree model has a realistic distribution than the logistic regression model as it is a lot less skewed.\n"
   ]
  }
 ],
 "metadata": {
  "kernelspec": {
   "display_name": "Python 3",
   "language": "python",
   "name": "python3"
  },
  "language_info": {
   "codemirror_mode": {
    "name": "ipython",
    "version": 3
   },
   "file_extension": ".py",
   "mimetype": "text/x-python",
   "name": "python",
   "nbconvert_exporter": "python",
   "pygments_lexer": "ipython3",
   "version": "3.8.5"
  }
 },
 "nbformat": 4,
 "nbformat_minor": 5
}
